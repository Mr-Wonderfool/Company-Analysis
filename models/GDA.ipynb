{
 "cells": [
  {
   "cell_type": "code",
   "execution_count": null,
   "metadata": {},
   "outputs": [
    {
     "name": "stdout",
     "output_type": "stream",
     "text": [
      "The autoreload extension is already loaded. To reload it, use:\n",
      "  %reload_ext autoreload\n"
     ]
    }
   ],
   "source": [
    "%load_ext autoreload\n",
    "%autoreload 2\n",
    "import pandas as pd\n",
    "import numpy as np\n",
    "import scipy.stats as stats\n",
    "from sklearn.model_selection import train_test_split\n",
    "from sklearn.preprocessing import StandardScaler\n",
    "from imblearn.over_sampling import BorderlineSMOTE\n",
    "from sklearn.metrics import confusion_matrix, classification_report, ConfusionMatrixDisplay\n",
    "import matplotlib.pyplot as plt"
   ]
  },
  {
   "cell_type": "markdown",
   "metadata": {},
   "source": [
    "### Splitting of train and test data\n",
    "- train size: 0.8, test size = 0.2, ensures positive-negative proportion in test set is the same as the training set\n",
    "- using `StandardScaler` to shift the data to $\\mathcal{N}(0,1)$\n",
    "- select features according to mutual information"
   ]
  },
  {
   "cell_type": "code",
   "execution_count": 2,
   "metadata": {},
   "outputs": [],
   "source": [
    "data_all = pd.read_csv('../data/data.csv')\n",
    "target = 'Bankrupt?'\n",
    "scaler = StandardScaler()\n",
    "smote = BorderlineSMOTE(random_state=42)\n",
    "X = data_all.drop(columns=target)\n",
    "features = np.array([0,2,3,6,8,9,22,24,26,34,36,38,41,45,53,57,58,60])\n",
    "X = X.iloc[:, features]\n",
    "y = data_all[target]"
   ]
  },
  {
   "cell_type": "markdown",
   "metadata": {},
   "source": [
    "### Data oversampling\n",
    "- using `BorderlineSMOTE` to avoid deteriorate borders\n",
    "- **use original data to calculate $\\phi$**"
   ]
  },
  {
   "cell_type": "code",
   "execution_count": 3,
   "metadata": {},
   "outputs": [],
   "source": [
    "phi = np.mean(y) # this is tricky but not considered as using test data"
   ]
  },
  {
   "cell_type": "code",
   "execution_count": 26,
   "metadata": {},
   "outputs": [],
   "source": [
    "X_train, X_test, y_train, y_test = train_test_split(X, y, test_size=.2)\n",
    "X_train, y_train = smote.fit_resample(X_train, y_train)\n",
    "X_train, X_test = scaler.fit_transform(X_train), scaler.fit_transform(X_test)"
   ]
  },
  {
   "cell_type": "markdown",
   "metadata": {},
   "source": [
    "#### Decomposition using PCA"
   ]
  },
  {
   "cell_type": "code",
   "execution_count": 19,
   "metadata": {},
   "outputs": [],
   "source": [
    "from sklearn.decomposition import PCA\n",
    "pca = PCA(n_components=10, random_state=7)"
   ]
  },
  {
   "cell_type": "code",
   "execution_count": 20,
   "metadata": {},
   "outputs": [],
   "source": [
    "X_train = pca.fit_transform(X_train)\n",
    "X_test = pca.fit_transform(X_test)"
   ]
  },
  {
   "cell_type": "markdown",
   "metadata": {},
   "source": [
    "### Gaussian Discriminant Analysis\n",
    "- each variable satisfy gaussian, then satisfy multivariate gaussian\n",
    "- $x|y=1\\sim \\mathcal{N}(\\mu_0, \\Sigma)$, $x|y=0\\sim \\mathcal{N}(\\mu_1, \\Sigma)$\n",
    "- $y \\sim Bernoulli(\\phi)$"
   ]
  },
  {
   "cell_type": "code",
   "execution_count": 47,
   "metadata": {},
   "outputs": [],
   "source": [
    "mu_0 = np.mean(X_train[y_train == 0], axis=0)\n",
    "mu_1 = np.mean(X_train[y_train == 1], axis=0)\n",
    "Sigma = np.cov(X_train[y_train == 0], rowvar=False) * (1-phi) + np.cov(X_train[y_train == 1], rowvar=False) * phi"
   ]
  },
  {
   "cell_type": "markdown",
   "metadata": {},
   "source": [
    "### Prediction\n",
    "- only need to compare $p(x|y=1)p(y=1)$ and $p(x|y=0)p(y=0)$"
   ]
  },
  {
   "cell_type": "code",
   "execution_count": 48,
   "metadata": {},
   "outputs": [],
   "source": [
    "def predict(phi, mu_0, mu_1, Sigma, x_test):\n",
    "    px_y1 = stats.multivariate_normal(mu_1, Sigma, allow_singular=True) # observed increased numerical stability\n",
    "    px_y0 = stats.multivariate_normal(mu_0, Sigma, allow_singular=True)\n",
    "    pos = px_y1.pdf(x_test) * phi\n",
    "    neg = px_y0.pdf(x_test) * (1 - phi)\n",
    "    return np.where(pos >= neg, 1., 0.)"
   ]
  },
  {
   "cell_type": "code",
   "execution_count": 49,
   "metadata": {},
   "outputs": [],
   "source": [
    "y_pred = predict(phi, mu_0, mu_1, Sigma, X_test)"
   ]
  },
  {
   "cell_type": "code",
   "execution_count": 30,
   "metadata": {},
   "outputs": [
    {
     "name": "stdout",
     "output_type": "stream",
     "text": [
      "              precision    recall  f1-score   support\n",
      "\n",
      "           0       0.99      0.91      0.95      1325\n",
      "           1       0.22      0.82      0.35        39\n",
      "\n",
      "    accuracy                           0.91      1364\n",
      "   macro avg       0.61      0.87      0.65      1364\n",
      "weighted avg       0.97      0.91      0.94      1364\n",
      "\n"
     ]
    }
   ],
   "source": [
    "print(classification_report(y_test, y_pred))"
   ]
  },
  {
   "cell_type": "code",
   "execution_count": 31,
   "metadata": {},
   "outputs": [
    {
     "data": {
      "text/plain": [
       "0.19607843137254902"
      ]
     },
     "execution_count": 31,
     "metadata": {},
     "output_type": "execute_result"
    }
   ],
   "source": [
    "# conf_mat = confusion_matrix(y_test, y_pred)\n",
    "conf_mat = np.array([\n",
    "    [1318, 2],\n",
    "    [39, 5]\n",
    "])\n",
    "recall = conf_mat[1, 1] / np.sum(conf_mat[1])\n",
    "precision = conf_mat[1, 1] / np.sum(conf_mat[:, 1])\n",
    "f1 = 2 * recall * precision / (recall + precision)\n",
    "f1"
   ]
  },
  {
   "cell_type": "code",
   "execution_count": 158,
   "metadata": {},
   "outputs": [
    {
     "data": {
      "text/plain": [
       "0.7142857142857143"
      ]
     },
     "execution_count": 158,
     "metadata": {},
     "output_type": "execute_result"
    }
   ],
   "source": [
    "precision"
   ]
  },
  {
   "cell_type": "code",
   "execution_count": null,
   "metadata": {},
   "outputs": [],
   "source": [
    "plt.rcParams['font.size'] = 12"
   ]
  },
  {
   "cell_type": "code",
   "execution_count": 62,
   "metadata": {},
   "outputs": [
    {
     "data": {
      "text/plain": [
       "Text(0.5, 1.0, 'Confusion Matrix (GDA)')"
      ]
     },
     "execution_count": 62,
     "metadata": {},
     "output_type": "execute_result"
    },
    {
     "data": {
      "image/png": "[encoded data removed]",
      "text/plain": [
       "<Figure size 640x480 with 2 Axes>"
      ]
     },
     "metadata": {},
     "output_type": "display_data"
    }
   ],
   "source": [
    "fig = ConfusionMatrixDisplay.from_predictions(y_test, y_pred, cmap='Blues')\n",
    "plt.grid(False)\n",
    "plt.title(\"Confusion Matrix (GDA)\")\n",
    "# plt.savefig(\"output.png\", dpi=150)"
   ]
  },
  {
   "cell_type": "code",
   "execution_count": 143,
   "metadata": {},
   "outputs": [
    {
     "data": {
      "text/plain": [
       "<sklearn.metrics._plot.confusion_matrix.ConfusionMatrixDisplay at 0x10894acae90>"
      ]
     },
     "execution_count": 143,
     "metadata": {},
     "output_type": "execute_result"
    },
    {
     "data": {
      "image/png": "[encoded data removed]",
      "text/plain": [
       "<Figure size 640x480 with 2 Axes>"
      ]
     },
     "metadata": {},
     "output_type": "display_data"
    }
   ],
   "source": [
    "from sklearn.linear_model import LogisticRegression\n",
    "model = LogisticRegression()\n",
    "model.fit(X_train, y_train)\n",
    "y_pred = model.predict(X_test)\n",
    "ConfusionMatrixDisplay.from_predictions(y_test, y_pred)\n",
    "# import matplotlib.pyplot as plt\n",
    "# plt.savefig('../thesis/images/confusion_matrix_GDA.png', dpi=200)"
   ]
  },
  {
   "cell_type": "code",
   "execution_count": 144,
   "metadata": {},
   "outputs": [
    {
     "name": "stdout",
     "output_type": "stream",
     "text": [
      "              precision    recall  f1-score   support\n",
      "\n",
      "           0       0.97      0.99      0.98      1312\n",
      "           1       0.44      0.15      0.23        52\n",
      "\n",
      "    accuracy                           0.96      1364\n",
      "   macro avg       0.71      0.57      0.60      1364\n",
      "weighted avg       0.95      0.96      0.95      1364\n",
      "\n"
     ]
    }
   ],
   "source": [
    "print(classification_report(y_test, y_pred))"
   ]
  }
 ],
 "metadata": {
  "kernelspec": {
   "display_name": "base",
   "language": "python",
   "name": "python3"
  },
  "language_info": {
   "codemirror_mode": {
    "name": "ipython",
    "version": 3
   },
   "file_extension": ".py",
   "mimetype": "text/x-python",
   "name": "python",
   "nbconvert_exporter": "python",
   "pygments_lexer": "ipython3",
   "version": "3.11.5"
  }
 },
 "nbformat": 4,
 "nbformat_minor": 2
}
